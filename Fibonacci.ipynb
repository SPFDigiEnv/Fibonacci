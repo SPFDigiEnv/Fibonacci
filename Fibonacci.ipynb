{
 "cells": [
  {
   "cell_type": "markdown",
   "metadata": {},
   "source": [
    "# Fibonacci sequence"
   ]
  },
  {
   "cell_type": "markdown",
   "metadata": {},
   "source": [
    "## Demonstration of using binder"
   ]
  },
  {
   "cell_type": "code",
   "execution_count": 7,
   "metadata": {},
   "outputs": [],
   "source": [
    "import matplotlib.pyplot as plt"
   ]
  },
  {
   "cell_type": "code",
   "execution_count": 4,
   "metadata": {},
   "outputs": [],
   "source": [
    "# Constants\n",
    "SEQUENCE_LENGTH = 20\n",
    "SEQUENCE_F0 = 0\n",
    "SEQUENCE_F1 = 1"
   ]
  },
  {
   "cell_type": "code",
   "execution_count": 5,
   "metadata": {},
   "outputs": [],
   "source": [
    "def do_work(number, first, second):\n",
    "    \"\"\"\n",
    "    Call the main processing part of the model\n",
    "    \"\"\"\n",
    "    print(\"Generating Fibonacci sequence.\")\n",
    "    print(f\"Using: length={number}, first={first}, second={second}\")\n",
    "\n",
    "    sequence = fibonacci_sequence(number, first, second)\n",
    "\n",
    "    print(\"Sequence: \", sequence)\n",
    "\n",
    "    return sequence\n",
    "\n",
    "\n",
    "def fibonacci_sequence(length, f0=0, f1=1):\n",
    "    \"\"\"\n",
    "    Simple Fibonacci sequence generator\n",
    "    \"\"\"\n",
    "    sequence = [f0, f1]\n",
    "    length -= 2\n",
    "    while length > 0:\n",
    "        nth = f0 + f1\n",
    "        sequence.append(nth)\n",
    "\n",
    "        f0 = f1\n",
    "        f1 = nth\n",
    "        length -= 1\n",
    "\n",
    "    return sequence"
   ]
  },
  {
   "cell_type": "code",
   "execution_count": 6,
   "metadata": {},
   "outputs": [
    {
     "name": "stdout",
     "output_type": "stream",
     "text": [
      "Generating Fibonacci sequence.\n",
      "Using: length=20, first=0, second=1\n",
      "Sequence:  [0, 1, 1, 2, 3, 5, 8, 13, 21, 34, 55, 89, 144, 233, 377, 610, 987, 1597, 2584, 4181]\n"
     ]
    }
   ],
   "source": [
    "sequence = do_work(SEQUENCE_LENGTH, int(SEQUENCE_F0), int(SEQUENCE_F1))"
   ]
  },
  {
   "cell_type": "code",
   "execution_count": 9,
   "metadata": {},
   "outputs": [
    {
     "data": {
      "text/plain": [
       "[<matplotlib.lines.Line2D at 0x113c5d990>]"
      ]
     },
     "execution_count": 9,
     "metadata": {},
     "output_type": "execute_result"
    },
    {
     "data": {
      "image/png": "[encoded data removed]",
      "text/plain": [
       "<Figure size 432x288 with 1 Axes>"
      ]
     },
     "metadata": {
      "needs_background": "light"
     },
     "output_type": "display_data"
    }
   ],
   "source": [
    "plt.plot(sequence)"
   ]
  }
 ],
 "metadata": {
  "kernelspec": {
   "display_name": "Python 3",
   "language": "python",
   "name": "python3"
  },
  "language_info": {
   "codemirror_mode": {
    "name": "ipython",
    "version": 3
   },
   "file_extension": ".py",
   "mimetype": "text/x-python",
   "name": "python",
   "nbconvert_exporter": "python",
   "pygments_lexer": "ipython3",
   "version": "3.7.4"
  }
 },
 "nbformat": 4,
 "nbformat_minor": 2
}
